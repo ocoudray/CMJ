{
 "cells": [
  {
   "cell_type": "markdown",
   "metadata": {},
   "source": [
    "# Processus CMJ (Crump - Mode - Jagers) : exemples"
   ]
  },
  {
   "cell_type": "code",
   "execution_count": null,
   "metadata": {},
   "outputs": [],
   "source": [
    "import numpy as np\n",
    "import matplotlib.pyplot as plt"
   ]
  },
  {
   "cell_type": "markdown",
   "metadata": {},
   "source": [
    "## Exemple : processus de Poisson avec birth rate et type dépendant de l'âge\n",
    "\n",
    "$b$ une fonction définie sur $\\mathbb{R}_+$ : $\\textit{birth rate}$\n",
    "\n",
    "$\\mathbb{S}$ représente l'ensemble des longueurs de télomères (à la naissance). L'unité utilisée est le millier de paires de bases (kpb). On suppose que les longueurs de télomères à la naissance sont comprises entre 5 kpb et 15 kpb. \n",
    "\n",
    "Semi-groupe markovien $p_t$ de $\\mathbb{S}$ vers $\\mathbb{S}$ :\n",
    "$$ p_t(s_0, \\bullet) \\sim \\mathcal{N}(s_0 + \\alpha t -  m, \\sigma) $$ (loi tronquée au segment $[5,15]$)\n",
    "\n",
    "On impose $\\alpha = 0.01$ (vitesse de croissance des télomères des gamètes du père : environ 20 pb/an) et on fixe $m = 35\\times \\alpha$ de telle sorte que la moyenne de la gaussienne soit égale à 10kpb pour $s_0 = 10$ et $t = 35$.\n",
    "\n",
    "$\\xi$ : mesure aléatoire de Poisson sur $\\mathbb{S}\\times \\mathbb{R}_{+}$ d'intensité $b(t)p_t(s_0, \\mathrm{d}s)\\mathrm{d}t$"
   ]
  },
  {
   "cell_type": "code",
   "execution_count": null,
   "metadata": {},
   "outputs": [],
   "source": [
    "### Paramètres du modèle ###\n",
    "\n",
    "## Paramètres pour le birth rate ##\n",
    "a1 = 0.005\n",
    "a2 = 0.005\n",
    "\n",
    "## Paramètres pour le noyau de transition ##\n",
    "alpha = 0.01\n",
    "m = alpha * 35\n",
    "sigma = 0.1\n",
    "\n",
    "## Paramètres de simulation\n",
    "T_max = 200 # Durée de simulation (années)\n",
    "\n",
    "def b(t):\n",
    "    '''\n",
    "    Birth rate\n",
    "    t : âge\n",
    "    '''\n",
    "    if t < 15 or t > 55: return 0\n",
    "    if t < 35: return a1*(t-15)\n",
    "    return 20*a1 - a2*(t-35)\n",
    "\n",
    "def p(t, s0):\n",
    "    '''\n",
    "    Semi-groupe de transition: simulation du type du descendant\n",
    "    t : âge du parent à la reproduction\n",
    "    s0 : type de départ\n",
    "    '''\n",
    "    x = s0 + alpha * t - m + sigma * np.random.randn()\n",
    "    return min(max(x,5),15)\n",
    "\n",
    "def random_poisson_measure_inhomogeneous(t0, T, birth_rate, sup_birth_rate, s0 = 10):\n",
    "    '''\n",
    "    Simulation des points pour le processus de Poisson:\n",
    "    - t0 : date de naissance du parent\n",
    "    - T : date de fin (pour la simulation)\n",
    "    - birth_rate : fonction birth rate\n",
    "    - sup_birth_rate : norme sup de la fonction birth rate (utile pour l'algo de rejet)\n",
    "    - s0 : type du parent (défaut : 10)\n",
    "    '''\n",
    "    jump_times = list((T-t0) * np.random.rand(np.random.poisson(sup_birth_rate * T)) + t0)\n",
    "    i = 0\n",
    "    while i < len(jump_times):\n",
    "        if np.random.rand() >= b(jump_times[i])/sup_birth_rate:\n",
    "            del jump_times[i]\n",
    "        else:\n",
    "            i += 1\n",
    "    jump_times.sort()\n",
    "    types = [p(t, s0) for t in jump_times]\n",
    "    return jump_times, types\n",
    "\n",
    "def iteration_inhomogeneous(population, T_max, unexplored, birth_rate, sup_birth_rate, s0 = 10):\n",
    "    '''\n",
    "    Itération dans la simulation du processus (simulation d'une descendance)\n",
    "    - population : dictionnaire des individus simulés\n",
    "    - T_max : temps de fin de simulation\n",
    "    - unexplored : indices des individus dont les descendances n'ont pas encore été simulées\n",
    "    - birth_rate : fonction birth rate\n",
    "    - sup_birth_rate : norme sup de la fonction birth rate\n",
    "    - s0 : type du parent (défaut : 10)\n",
    "    '''\n",
    "    ind = unexplored.pop(0)\n",
    "    t0, s0 = population[ind]\n",
    "    jump_times, types = random_poisson_measure_inhomogeneous(0, T_max - t0, birth_rate, sup_birth_rate,  s0 = s0)\n",
    "    for i in range(len(jump_times)):\n",
    "        new_ind = ind + chr(i+1)\n",
    "        population[new_ind] = (t0 + jump_times[i], types[i])\n",
    "        unexplored.append(new_ind)\n",
    "    return\n",
    "\n",
    "def simul_population_inhomogeneous(T, birth_rate, sup_birth_rate, s0, verbose = False):\n",
    "    '''\n",
    "    Simulation du processus Jagers\n",
    "    - T : durée de simulation\n",
    "    - birth_rate : fonction birth rate\n",
    "    - sup_birth_rate : norme sup de la fonction birth rate\n",
    "    - s0 : type du parent (défaut : 10)\n",
    "    '''\n",
    "    n_it = 0\n",
    "    population = {chr(0): (0,s0)}\n",
    "    unexplored = list(population.keys())\n",
    "    while len(unexplored) >= 1:\n",
    "        iteration_inhomogeneous(population, T, unexplored, birth_rate, sup_birth_rate, s0 = s0)\n",
    "        n_it += 1\n",
    "        if n_it % 1000 == 0 and verbose:\n",
    "            print(\"{} itérations\".format(n_it))\n",
    "    print(\"{} itérations au total\".format(n_it))\n",
    "    return population"
   ]
  },
  {
   "cell_type": "code",
   "execution_count": null,
   "metadata": {},
   "outputs": [],
   "source": [
    "# Plot populations\n",
    "\n",
    "# Simple scatter plot\n",
    "def scatter_plot_population(pop):\n",
    "    '''\n",
    "    Plot simple d'une population après simulation\n",
    "    - pop : dictionnaire des individus (avec type et date de naissance)\n",
    "    '''\n",
    "    times, types = [pop[key][0] for key in pop], [pop[key][1] for key in pop]\n",
    "    plt.figure(figsize=(10,10))\n",
    "    plt.scatter(times, types)\n",
    "    plt.xlabel(\"Time (birth)\")\n",
    "    plt.ylabel(\"LTL (kpb)\")\n",
    "    plt.title(\"Plot simple de la population\")\n",
    "    plt.show()\n",
    "\n",
    "# Scatter plot with parent-children relations\n",
    "def plot_population(pop, T_max = 200):\n",
    "    '''\n",
    "    Plot de la population avec liens parent-enfants\n",
    "    - pop : dictionnaire des individus (avec type et date de naissance)\n",
    "    - T_max : temps de fin de simulation\n",
    "    '''\n",
    "    times, types = [pop[key][0] for key in pop], [pop[key][1] for key in pop]\n",
    "    plt.figure(figsize=(10,10))\n",
    "    plt.scatter(times, types, color = 'r')\n",
    "    plt.hlines(y = pop[chr(0)][1], xmin=0, xmax=T_max, color = 'b')\n",
    "    for key in pop.keys():\n",
    "        i = 1\n",
    "        while key + chr(i) in pop.keys():\n",
    "            plt.plot([pop[key + chr(i)][0], pop[key + chr(i)][0]], [pop[key][1], pop[key + chr(i)][1]], color = 'b')\n",
    "            plt.hlines(y = pop[key + chr(i)][1], xmin=pop[key + chr(i)][0], xmax=T_max, color = 'b')\n",
    "            i += 1\n",
    "    plt.xlabel(\"Time (birth)\")\n",
    "    plt.ylabel(\"LTL (kpb)\")\n",
    "    plt.title(\"Plot avec relations de parenté\")\n",
    "    plt.show()"
   ]
  },
  {
   "cell_type": "code",
   "execution_count": null,
   "metadata": {},
   "outputs": [],
   "source": [
    "# Birth rate\n",
    "plt.figure(figsize=(7,5))\n",
    "x = np.linspace(0,100,101)\n",
    "y = [b(e) for e in x]\n",
    "plt.plot(x,y)\n",
    "plt.xlabel('âge')\n",
    "plt.ylabel(\"Nombre d'enfants / an moyen (par femme)\")\n",
    "plt.title(\"Birth rate\")\n",
    "plt.show()"
   ]
  },
  {
   "cell_type": "code",
   "execution_count": null,
   "metadata": {},
   "outputs": [],
   "source": [
    "# Simulation d'une population\n",
    "# Remarque : ne pas hésiter à relancer si le nombre d'itération est trop faible : cela signifie probablement que la population s'est éteinte\n",
    "pop2 = simul_population_inhomogeneous(200, b, 0.1, 10)"
   ]
  },
  {
   "cell_type": "code",
   "execution_count": null,
   "metadata": {},
   "outputs": [],
   "source": [
    "# Plot simple\n",
    "scatter_plot_population(pop2)"
   ]
  },
  {
   "cell_type": "code",
   "execution_count": null,
   "metadata": {},
   "outputs": [],
   "source": [
    "plot_population(pop2)"
   ]
  },
  {
   "cell_type": "code",
   "execution_count": null,
   "metadata": {},
   "outputs": [],
   "source": [
    "pop3 = simul_population_inhomogeneous(550, b, 0.1, 10)\n",
    "sub_pop1 = [pop3[key][1] for key in pop3.keys() if pop3[key][0]>=450]\n",
    "sub_pop2 = [pop3[key][1] for key in pop3.keys() if pop3[key][0]<450 and pop3[key][0]>=350]"
   ]
  },
  {
   "cell_type": "code",
   "execution_count": null,
   "metadata": {},
   "outputs": [],
   "source": [
    "plt.figure(figsize = (10,10))\n",
    "plt.hist(sub_pop1, bins = 15, density = True, color = 'b', alpha = 0.5, label = \"Individus nés entre 450 et 550\")\n",
    "plt.hist(sub_pop2, bins = 15, density = True, color = 'r', alpha = 0.5, label = \"Individus nés entre 350 et 450\")\n",
    "plt.legend()\n",
    "plt.title(\"Distribution des longueurs de télomères\")\n",
    "plt.show()"
   ]
  },
  {
   "cell_type": "code",
   "execution_count": null,
   "metadata": {},
   "outputs": [],
   "source": []
  }
 ],
 "metadata": {
  "kernelspec": {
   "display_name": "Python 3",
   "language": "python",
   "name": "python3"
  },
  "language_info": {
   "codemirror_mode": {
    "name": "ipython",
    "version": 3
   },
   "file_extension": ".py",
   "mimetype": "text/x-python",
   "name": "python",
   "nbconvert_exporter": "python",
   "pygments_lexer": "ipython3",
   "version": "3.6.7"
  }
 },
 "nbformat": 4,
 "nbformat_minor": 2
}
