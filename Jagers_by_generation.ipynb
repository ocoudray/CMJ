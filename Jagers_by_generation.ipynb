{
 "cells": [
  {
   "cell_type": "markdown",
   "metadata": {},
   "source": [
    "# Processus CMJ (Crump - Mode - Jagers) : exemples"
   ]
  },
  {
   "cell_type": "code",
   "execution_count": null,
   "metadata": {},
   "outputs": [],
   "source": [
    "import numpy as np\n",
    "import matplotlib.pyplot as plt\n",
    "import pandas as pd\n",
    "from tqdm import tqdm"
   ]
  },
  {
   "cell_type": "markdown",
   "metadata": {},
   "source": [
    "## Processus de Poisson avec birth rate et type dépendant de l'âge\n",
    "\n",
    "$b$ une fonction définie sur $\\mathbb{R}_+$ : $\\textit{birth rate}$\n",
    "\n",
    "$\\mathbb{S}$ représente l'ensemble des longueurs de télomères (à la naissance). L'unité utilisée est le millier de paires de bases (kpb). On suppose que les longueurs de télomères à la naissance sont comprises entre 5 kpb et 15 kpb. \n",
    "\n",
    "Semi-groupe markovien $p_t$ de $\\mathbb{S}$ vers $\\mathbb{S}$ :\n",
    "$$ p_t(s_0, \\bullet) \\sim \\mathcal{N}(s_0 + \\alpha t -  m, \\sigma) $$ (loi conditionnée à appartenir au segment $[5,15]$)\n",
    "\n",
    "On impose $\\alpha = 0.01$ (vitesse de croissance des télomères des gamètes du père : environ 20 pb/an) et on fixe $m = 35\\times \\alpha$ de telle sorte que la moyenne de la gaussienne soit égale à 10kpb pour $s_0 = 10$ et $t = 35$.\n",
    "\n",
    "$\\xi$ : mesure aléatoire de Poisson sur $\\mathbb{S}\\times \\mathbb{R}_{+}$ d'intensité $b(t)p_t(s_0, \\mathrm{d}s)\\mathrm{d}t$"
   ]
  },
  {
   "cell_type": "code",
   "execution_count": null,
   "metadata": {},
   "outputs": [],
   "source": [
    "class Individual:\n",
    "    def __init__(self, s, t, index):\n",
    "        self.s = s\n",
    "        self.birth_date = t\n",
    "        self.label = index\n",
    "    def __repr__(self):\n",
    "        s = \"Individu de type {} né au temps {}\".format(self.s, self.birth_date)\n",
    "        return s\n",
    "    def get_age(self, t):\n",
    "        return max(0, t - self.birth_date)"
   ]
  },
  {
   "cell_type": "code",
   "execution_count": null,
   "metadata": {},
   "outputs": [],
   "source": [
    "### Paramètres du modèle ###\n",
    "\n",
    "df = pd.read_csv(\"fm_fecondite_age_mere.csv\", index_col = 0, \n",
    "                 names = range(14,51),\n",
    "                 engine = 'python', skiprows = 5, skipfooter = 4)\n",
    "del df[14]\n",
    "\n",
    "## Paramètres de simulation ##\n",
    "\n",
    "birth_rates = np.array(df[df.index == 2000] / 10000)[0]\n",
    "def birth_rate(t):\n",
    "    n = int(t)-15\n",
    "    if n < 0 or n > 35:\n",
    "        return 0\n",
    "    else:\n",
    "        if n+1 == 36:\n",
    "            return birth_rates[n]*(n+1-t-15)\n",
    "        return birth_rates[n] + (birth_rates[n+1] - birth_rates[n])*(t-n-15)\n",
    "ind = 14\n",
    "s1 = np.sum(birth_rates[:ind])\n",
    "s2 = np.sum(birth_rates[ind+1:])\n",
    "rho = 0.5*((s2-s1)/birth_rates[ind]+1)\n",
    "\n",
    "## Paramètres pour le noyau de transition ##\n",
    "\n",
    "alpha = 0.015\n",
    "m = alpha * (15 + ind + rho)\n",
    "sigma = 0.1\n",
    "\n",
    "def plot_birth_rate(year, color = 'b'):\n",
    "    br = np.array(df[df.index == year] / 10000)[0]\n",
    "    plt.plot(np.array(df.columns), br, color = color, label = \"Année {}\".format(year))\n",
    "\n",
    "def p(t, s0):\n",
    "    '''\n",
    "    Semi-groupe de transition: simulation du type du descendant\n",
    "    t : âge du parent à la reproduction\n",
    "    s0 : type de départ\n",
    "    '''\n",
    "    x = s0 + alpha * t - m + sigma * np.random.randn()\n",
    "    k = 0\n",
    "    while x > 15 or x < 5:\n",
    "        x = s0 + alpha * t - m + sigma * np.random.randn()\n",
    "        k += 1\n",
    "#         if k > 1000:\n",
    "#             print(\"Impossible de simuler le type\")\n",
    "#             print(t, s0)\n",
    "#             break\n",
    "    return x\n",
    "\n",
    "def random_poisson_measure_inhomogeneous(t0, T, birth_rate, sup_birth_rate, s0 = 10):\n",
    "    '''\n",
    "    Simulation des points pour le processus de Poisson:\n",
    "    - t0 : date de naissance du parent\n",
    "    - T : date de fin (pour la simulation)\n",
    "    - birth_rate : fonction birth rate\n",
    "    - sup_birth_rate : norme sup de la fonction birth rate (utile pour l'algo de rejet)\n",
    "    - s0 : type du parent (défaut : 10)\n",
    "    '''\n",
    "    jump_times = list(T * np.random.rand(np.random.poisson(sup_birth_rate * T)) + t0)\n",
    "    i = 0\n",
    "    while i < len(jump_times):\n",
    "        if np.random.rand() >= birth_rate(jump_times[i]-t0)/sup_birth_rate:\n",
    "            del jump_times[i]\n",
    "        else:\n",
    "            i += 1\n",
    "    jump_times.sort()\n",
    "#     print(jump_times)\n",
    "    types = [p(t-t0, s0) for t in jump_times]\n",
    "    return jump_times, types\n",
    "\n",
    "def simul_next_gen(population, birth_rate, sup_birth_rate, n_max = 100):\n",
    "    '''\n",
    "    Simulation de la génération suivante et ajout à la list population\n",
    "    - population : liste de toutes les générations déjà simulées\n",
    "    - birth_rate : fontion taux de naissance\n",
    "    - sup_birth_rate : sup de la fonction taux de naissance\n",
    "    - n_max : taille maximale de chaque génération\n",
    "    '''\n",
    "    new_gen = []\n",
    "    for ind in population[-1]:\n",
    "        jump_times, types = random_poisson_measure_inhomogeneous(ind.birth_date, 55, birth_rate, sup_birth_rate, ind.s)\n",
    "        for i in range(len(jump_times)):\n",
    "            new_gen.append(Individual(types[i], jump_times[i], ind.label + chr(i+1)))\n",
    "    if len(new_gen) > n_max:\n",
    "        new_gen = np.array(new_gen)[np.random.choice(range(len(new_gen)), n_max, replace = False)]\n",
    "    population.append(new_gen)\n",
    "    return population\n",
    "\n",
    "def simul_pop(population, N, birth_rate, sup_birth_rate, n_max = 100):\n",
    "    '''\n",
    "    Simulation des N générations suivante et ajout à la list population\n",
    "    - population : liste de toutes les générations déjà simulées\n",
    "    - N : nombre de génération à simuler\n",
    "    - birth_rate : fontion taux de naissance\n",
    "    - sup_birth_rate : sup de la fonction taux de naissance\n",
    "    - n_max : taille maximale de chaque génération\n",
    "    '''\n",
    "    for k in tqdm(range(N)):\n",
    "        population = simul_next_gen(pop, birth_rate, sup_birth_rate, n_max)"
   ]
  },
  {
   "cell_type": "code",
   "execution_count": null,
   "metadata": {},
   "outputs": [],
   "source": [
    "# Plot populations\n",
    "\n",
    "# Simple scatter plot\n",
    "def scatter_plot_population(population):\n",
    "    '''\n",
    "    Plot simple d'une population après simulation\n",
    "    - population : liste des générations avec les individus (type et date de naissance)\n",
    "    '''\n",
    "    plt.figure(figsize=(10,10))\n",
    "    for k in range(len(population)):\n",
    "        plt.scatter([x.birth_date for x in population[k]], [x.s for x in population[k]], s=10)\n",
    "    plt.xlabel(\"Time (birth)\")\n",
    "    plt.ylabel(\"LTL (kpb)\")\n",
    "    plt.title(\"Plot simple de la population\")\n",
    "    plt.show()\n",
    "    \n",
    "# Selection\n",
    "def select(population, selection, t_min, t_max):\n",
    "    '''\n",
    "    Sélection des individus en fonction de leur date de naissance\n",
    "    - population : liste des générations\n",
    "    '''\n",
    "#     selection.clear()\n",
    "    for k in range(len(population)):\n",
    "        print(k)\n",
    "        for ind in population[k]:\n",
    "            print(ind)\n",
    "            d = ind.birth_date\n",
    "            if d < t_max and d >= t_min:\n",
    "                selection.append(ind)\n",
    "\n",
    "# Max time\n",
    "def max_time(population):\n",
    "    '''\n",
    "    Temps de naissance maximum = dernier temps de naissance\n",
    "    - population : liste des générations\n",
    "    '''\n",
    "    m = 0\n",
    "    for k in range(len(population)):\n",
    "        for ind in population[k]:\n",
    "            m = max(m, ind.birth_date)\n",
    "    return m"
   ]
  },
  {
   "cell_type": "code",
   "execution_count": null,
   "metadata": {},
   "outputs": [],
   "source": [
    "plt.figure(figsize=(7,5))\n",
    "plot_birth_rate(1950, 'y')\n",
    "plot_birth_rate(1975, 'g')\n",
    "plot_birth_rate(2000, 'r')\n",
    "plot_birth_rate(2018, 'b')\n",
    "plt.xlabel('Age')\n",
    "plt.ylabel('Fertility rate per year')\n",
    "plt.legend()\n",
    "plt.show()"
   ]
  },
  {
   "cell_type": "code",
   "execution_count": null,
   "metadata": {},
   "outputs": [],
   "source": [
    "# Initialisation\n",
    "t0 = 0\n",
    "s0 = 10\n",
    "n_max = 1000\n",
    "pop = [[Individual(s0, t0, chr(0)) for k in range(10)]]\n",
    "# sel = pop[0]"
   ]
  },
  {
   "cell_type": "code",
   "execution_count": null,
   "metadata": {},
   "outputs": [],
   "source": [
    "# plt.figure(figsize=(5,5))\n",
    "# plt.plot([len(pop[k]) for k in range(len(pop))])\n",
    "# plt.xlabel(\"Temps (années)\")\n",
    "# plt.ylabel(\"Taille de la population\")\n",
    "# plt.show()"
   ]
  },
  {
   "cell_type": "code",
   "execution_count": null,
   "metadata": {},
   "outputs": [],
   "source": [
    "# scatter_plot_population(pop)"
   ]
  },
  {
   "cell_type": "code",
   "execution_count": null,
   "metadata": {},
   "outputs": [],
   "source": [
    "from bqplot import LinearScale, Bins, Axis, Figure, Scatter\n",
    "import ipywidgets as wdgts"
   ]
  },
  {
   "cell_type": "code",
   "execution_count": null,
   "metadata": {},
   "outputs": [],
   "source": [
    "slider = wdgts.IntSlider(0,0, len(pop)-1)"
   ]
  },
  {
   "cell_type": "code",
   "execution_count": null,
   "metadata": {},
   "outputs": [],
   "source": [
    "n_it = wdgts.HBox([wdgts.Label(\"Nombre d'itérations supplémentaires : \"), wdgts.IntText(value=0, description=\"\", disabled=False)])\n",
    "button1 = wdgts.ToggleButton(value=False, description='Go!', disabled=False, button_style='')\n",
    "button2 = wdgts.ToggleButton(value=False, description='Reset', disabled=False, button_style='')\n",
    "\n",
    "def update(change):\n",
    "    if button1.value:\n",
    "        N = n_it.children[1].value\n",
    "        simul_pop(pop, N, birth_rate, 0.15, n_max = n_max)\n",
    "        slider.max = len(pop)-1\n",
    "        m = max_time(pop)\n",
    "#         selector.max = m\n",
    "    button1.value = False\n",
    "    \n",
    "button1.observe(update, 'value')\n",
    "\n",
    "def clear(change):\n",
    "    if button2.value:\n",
    "        slider.max = 0\n",
    "        pop.clear()\n",
    "        pop.append([Individual(s0,t0,chr(0)) for k in range(10)])\n",
    "    button2.value = False\n",
    "\n",
    "button2.observe(clear, 'value')"
   ]
  },
  {
   "cell_type": "code",
   "execution_count": null,
   "metadata": {},
   "outputs": [],
   "source": [
    "# m = max_time(pop)\n",
    "# selector = wdgts.IntRangeSlider(value=[0, m+100], min=0, max=m+100, step=1, description='', disabled=False, continuous_update=False, orientation='horizontal', readout=True, readout_format='d')\n",
    "\n",
    "# def selection_update(change):\n",
    "#     r = change['new']\n",
    "#     select(pop, sel, r[0], r[1])\n",
    "#     print(sel)\n",
    "\n",
    "# selector.observe(selection_update, 'value')"
   ]
  },
  {
   "cell_type": "code",
   "execution_count": null,
   "metadata": {},
   "outputs": [],
   "source": [
    "x_data = [x.birth_date for x in pop[0]]\n",
    "y_data = [x.s for x in pop[0]]"
   ]
  },
  {
   "cell_type": "code",
   "execution_count": null,
   "metadata": {},
   "outputs": [],
   "source": [
    "x_sc = LinearScale()\n",
    "y_sc = LinearScale()\n",
    "hist = Bins(sample=y_data, scales={'x': x_sc, 'y': y_sc}, density = False, bins = int((2*len(y_data))**(1/3)))\n",
    "ax_x = Axis(scale=x_sc, tick_format='0.2f', label = 'LTL (kpb)')\n",
    "ax_y = Axis(scale=y_sc, orientation='vertical')\n",
    "\n",
    "fig1 = Figure(marks=[hist], axes=[ax_x, ax_y], padding_y=0, layout=wdgts.Layout(width='600px', height='500px'), title = 'Répartition des longueurs de télomères')"
   ]
  },
  {
   "cell_type": "code",
   "execution_count": null,
   "metadata": {},
   "outputs": [],
   "source": [
    "def foo(change):\n",
    "    hist.sample = [x.s for x in pop[change['new']]]\n",
    "    hist.bins = int((2*len(pop[change['new']]))**(1/3))\n",
    "slider.observe(foo, 'value')"
   ]
  },
  {
   "cell_type": "code",
   "execution_count": null,
   "metadata": {},
   "outputs": [],
   "source": [
    "wdgts.HBox([fig1,wdgts.VBox([n_it, button1, slider, button2])])"
   ]
  },
  {
   "cell_type": "code",
   "execution_count": null,
   "metadata": {},
   "outputs": [],
   "source": []
  },
  {
   "cell_type": "code",
   "execution_count": null,
   "metadata": {},
   "outputs": [],
   "source": []
  }
 ],
 "metadata": {
  "kernelspec": {
   "display_name": "Python 3",
   "language": "python",
   "name": "python3"
  },
  "language_info": {
   "codemirror_mode": {
    "name": "ipython",
    "version": 3
   },
   "file_extension": ".py",
   "mimetype": "text/x-python",
   "name": "python",
   "nbconvert_exporter": "python",
   "pygments_lexer": "ipython3",
   "version": "3.6.7"
  }
 },
 "nbformat": 4,
 "nbformat_minor": 4
}
